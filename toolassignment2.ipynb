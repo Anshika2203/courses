{
 "cells": [
  {
   "cell_type": "code",
   "execution_count": 1,
   "id": "f1fe367f",
   "metadata": {},
   "outputs": [
    {
     "name": "stdout",
     "output_type": "stream",
     "text": [
      "Defaulting to user installation because normal site-packages is not writeable\n",
      "Requirement already satisfied: anthropic in /Users/anshika@browserstack.com/Library/Python/3.9/lib/python/site-packages (0.52.2)\n",
      "Requirement already satisfied: pydantic<3,>=1.9.0 in /Users/anshika@browserstack.com/Library/Python/3.9/lib/python/site-packages (from anthropic) (2.11.5)\n",
      "Requirement already satisfied: sniffio in /Users/anshika@browserstack.com/Library/Python/3.9/lib/python/site-packages (from anthropic) (1.3.1)\n",
      "Requirement already satisfied: typing-extensions<5,>=4.10 in /Users/anshika@browserstack.com/Library/Python/3.9/lib/python/site-packages (from anthropic) (4.14.0)\n",
      "Requirement already satisfied: jiter<1,>=0.4.0 in /Users/anshika@browserstack.com/Library/Python/3.9/lib/python/site-packages (from anthropic) (0.10.0)\n",
      "Requirement already satisfied: httpx<1,>=0.25.0 in /Users/anshika@browserstack.com/Library/Python/3.9/lib/python/site-packages (from anthropic) (0.28.1)\n",
      "Requirement already satisfied: distro<2,>=1.7.0 in /Users/anshika@browserstack.com/Library/Python/3.9/lib/python/site-packages (from anthropic) (1.9.0)\n",
      "Requirement already satisfied: anyio<5,>=3.5.0 in /Users/anshika@browserstack.com/Library/Python/3.9/lib/python/site-packages (from anthropic) (4.9.0)\n",
      "Requirement already satisfied: idna>=2.8 in /Users/anshika@browserstack.com/Library/Python/3.9/lib/python/site-packages (from anyio<5,>=3.5.0->anthropic) (3.10)\n",
      "Requirement already satisfied: exceptiongroup>=1.0.2 in /Users/anshika@browserstack.com/Library/Python/3.9/lib/python/site-packages (from anyio<5,>=3.5.0->anthropic) (1.3.0)\n",
      "Requirement already satisfied: httpcore==1.* in /Users/anshika@browserstack.com/Library/Python/3.9/lib/python/site-packages (from httpx<1,>=0.25.0->anthropic) (1.0.9)\n",
      "Requirement already satisfied: certifi in /Users/anshika@browserstack.com/Library/Python/3.9/lib/python/site-packages (from httpx<1,>=0.25.0->anthropic) (2025.4.26)\n",
      "Requirement already satisfied: h11>=0.16 in /Users/anshika@browserstack.com/Library/Python/3.9/lib/python/site-packages (from httpcore==1.*->httpx<1,>=0.25.0->anthropic) (0.16.0)\n",
      "Requirement already satisfied: annotated-types>=0.6.0 in /Users/anshika@browserstack.com/Library/Python/3.9/lib/python/site-packages (from pydantic<3,>=1.9.0->anthropic) (0.7.0)\n",
      "Requirement already satisfied: typing-inspection>=0.4.0 in /Users/anshika@browserstack.com/Library/Python/3.9/lib/python/site-packages (from pydantic<3,>=1.9.0->anthropic) (0.4.1)\n",
      "Requirement already satisfied: pydantic-core==2.33.2 in /Users/anshika@browserstack.com/Library/Python/3.9/lib/python/site-packages (from pydantic<3,>=1.9.0->anthropic) (2.33.2)\n",
      "\u001b[33mWARNING: You are using pip version 21.2.4; however, version 25.1.1 is available.\n",
      "You should consider upgrading via the '/Library/Developer/CommandLineTools/usr/bin/python3 -m pip install --upgrade pip' command.\u001b[0m\n",
      "Note: you may need to restart the kernel to use updated packages.\n"
     ]
    }
   ],
   "source": [
    "%pip install anthropic\n"
   ]
  },
  {
   "cell_type": "code",
   "execution_count": null,
   "id": "3b6e071d",
   "metadata": {},
   "outputs": [],
   "source": [
    "import json\n",
    "import anthropic\n",
    "\n",
    "client = anthropic.Anthropic(\n",
    "    api_key=\"YOUR_CLAUDE_API_KEY\"\n",
    ")"
   ]
  },
  {
   "cell_type": "code",
   "execution_count": 3,
   "id": "ed349ae5",
   "metadata": {},
   "outputs": [],
   "source": [
    "tools = [\n",
    "    {\n",
    "        \"name\": \"print_translations\",\n",
    "        \"description\": \"Prints translations of a given English phrase into multiple languages.\",\n",
    "        \"input_schema\": {\n",
    "            \"type\": \"object\",\n",
    "            \"properties\": {\n",
    "                \"english\": {\n",
    "                    \"type\": \"string\",\n",
    "                    \"description\": \"The original English phrase.\"\n",
    "                },\n",
    "                \"spanish\": {\n",
    "                    \"type\": \"string\",\n",
    "                    \"description\": \"The Spanish translation.\"\n",
    "                },\n",
    "                \"french\": {\n",
    "                    \"type\": \"string\",\n",
    "                    \"description\": \"The French translation.\"\n",
    "                },\n",
    "                \"japanese\": {\n",
    "                    \"type\": \"string\",\n",
    "                    \"description\": \"The Japanese translation.\"\n",
    "                },\n",
    "                \"arabic\": {\n",
    "                    \"type\": \"string\",\n",
    "                    \"description\": \"The Arabic translation.\"\n",
    "                }\n",
    "            },\n",
    "            \"required\": [\"english\", \"spanish\", \"french\", \"japanese\", \"arabic\"]\n",
    "        }\n",
    "    }\n",
    "]"
   ]
  },
  {
   "cell_type": "code",
   "execution_count": 4,
   "id": "690bffaa",
   "metadata": {},
   "outputs": [],
   "source": [
    "def translate(phrase):\n",
    "    prompt = f\"\"\"\n",
    "Translate the following English phrase into Spanish, French, Japanese, and Arabic.\n",
    "\n",
    "<phrase>\n",
    "{phrase}\n",
    "</phrase>\n",
    "\n",
    "Use the print_translations tool.\n",
    "\"\"\"\n",
    "\n",
    "    response = client.messages.create(\n",
    "        model=\"claude-3-haiku-20240307\",\n",
    "        max_tokens=1024,\n",
    "        tools=tools,\n",
    "        messages=[{\"role\": \"user\", \"content\": prompt}]\n",
    "    )\n",
    "\n",
    "    translations = None\n",
    "    for content in response.content:\n",
    "        if content.type == \"tool_use\" and content.name == \"print_translations\":\n",
    "            translations = content.input\n",
    "            break\n",
    "\n",
    "    if translations:\n",
    "        print(json.dumps(translations, ensure_ascii=False, indent=2))\n",
    "        return translations\n",
    "    else:\n",
    "        print(\"No translations found.\")\n",
    "        return None\n"
   ]
  },
  {
   "cell_type": "code",
   "execution_count": 5,
   "id": "388d7537",
   "metadata": {},
   "outputs": [
    {
     "name": "stdout",
     "output_type": "stream",
     "text": [
      "{\n",
      "  \"english\": \"how much does this cost\",\n",
      "  \"spanish\": \"¿cuánto cuesta esto?\",\n",
      "  \"french\": \"combien coûte cela?\",\n",
      "  \"japanese\": \"これはいくらですか?\",\n",
      "  \"arabic\": \"كم تكلفة هذا؟\"\n",
      "}\n"
     ]
    },
    {
     "data": {
      "text/plain": [
       "{'english': 'how much does this cost',\n",
       " 'spanish': '¿cuánto cuesta esto?',\n",
       " 'french': 'combien coûte cela?',\n",
       " 'japanese': 'これはいくらですか?',\n",
       " 'arabic': 'كم تكلفة هذا؟'}"
      ]
     },
     "execution_count": 5,
     "metadata": {},
     "output_type": "execute_result"
    }
   ],
   "source": [
    "translate(\"how much does this cost\")"
   ]
  }
 ],
 "metadata": {
  "kernelspec": {
   "display_name": "Python 3",
   "language": "python",
   "name": "python3"
  },
  "language_info": {
   "codemirror_mode": {
    "name": "ipython",
    "version": 3
   },
   "file_extension": ".py",
   "mimetype": "text/x-python",
   "name": "python",
   "nbconvert_exporter": "python",
   "pygments_lexer": "ipython3",
   "version": "3.9.6"
  }
 },
 "nbformat": 4,
 "nbformat_minor": 5
}
