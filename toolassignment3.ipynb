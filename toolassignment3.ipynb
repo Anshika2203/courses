{
 "cells": [
  {
   "cell_type": "code",
   "execution_count": 8,
   "id": "65f0c131",
   "metadata": {},
   "outputs": [],
   "source": [
    "import re\n",
    "from anthropic import Anthropic\n",
    "from getpass import getpass\n",
    "\n",
    "api_key = getpass(\"Enter your Claude API key: \")\n",
    "client = Anthropic(api_key=api_key)\n",
    "\n",
    "def get_article(topic):\n",
    "    import wikipedia\n",
    "    try:\n",
    "        return wikipedia.summary(topic, auto_suggest=False)\n",
    "    except Exception as e:\n",
    "        return f\"Could not find article for '{topic}': {e}\"\n",
    "\n",
    "article_search_tool = {\n",
    "    \"name\": \"get_article\",\n",
    "    \"description\": \"Get a recent Wikipedia article about a person, place, or event.\",\n",
    "    \"input_schema\": {\n",
    "        \"type\": \"object\",\n",
    "        \"properties\": {\n",
    "            \"search_term\": {\"type\": \"string\", \"description\": \"The topic to search for.\"}\n",
    "        },\n",
    "        \"required\": [\"search_term\"]\n",
    "    }\n",
    "}\n",
    "\n",
    "system_prompt = \"\"\"\n",
    "You will be asked a question by the user. \n",
    "If answering the question requires data you were not trained on, you can use the get_article tool to get the contents of a recent Wikipedia article about the topic. \n",
    "If you can answer the question without needing to get more information, please do so. \n",
    "Only call the tool when needed. \n",
    "\"\"\"\n",
    "\n",
    "def extract_answer(text):\n",
    "    \"\"\"Extracts the content inside <answer>...</answer> tags.\"\"\"\n",
    "    match = re.search(r\"<answer>(.*?)</answer>\", text, re.DOTALL)\n",
    "    return match.group(1).strip() if match else text.strip()\n",
    "\n",
    "def answer_question_loop():\n",
    "    while True:\n",
    "        question = input(\"\\nAsk a question (or type 'quit' to exit): \")\n",
    "        if question.lower() in [\"quit\", \"exit\"]:\n",
    "            print(\"Goodbye!\")\n",
    "            break\n",
    "\n",
    "        prompt = f\"\"\"\n",
    "        Answer the following question <question>{question}</question>\n",
    "        When you can answer the question, keep your answer as short as possible and enclose it in <answer> tags.\n",
    "        \"\"\"\n",
    "\n",
    "        messages = [{\"role\": \"user\", \"content\": prompt}]\n",
    "        while True:\n",
    "            response = client.messages.create(\n",
    "                model=\"claude-3-sonnet-20240229\",\n",
    "                system=system_prompt,\n",
    "                messages=messages,\n",
    "                tools=[article_search_tool],\n",
    "                max_tokens=1000\n",
    "            )\n",
    "\n",
    "            stop_reason = response.stop_reason\n",
    "            content = response.content[-1]\n",
    "\n",
    "            if stop_reason == \"tool_use\":\n",
    "                tool_use = content\n",
    "                search_term = tool_use.input[\"search_term\"]\n",
    "                print(f\"Claude wants to get an article for: {search_term}\")\n",
    "                wiki_content = get_article(search_term)\n",
    "\n",
    "                tool_result = {\n",
    "                    \"role\": \"user\",\n",
    "                    \"content\": [{\n",
    "                        \"type\": \"tool_result\",\n",
    "                        \"tool_use_id\": tool_use.id,\n",
    "                        \"content\": wiki_content\n",
    "                    }]\n",
    "                }\n",
    "                messages.append({\"role\": \"assistant\", \"content\": [tool_use]})\n",
    "                messages.append(tool_result)\n",
    "            else:\n",
    "                final_answer = extract_answer(content.text)\n",
    "                print(f\"\\nClaude's answer: {final_answer}\")\n",
    "                break\n"
   ]
  },
  {
   "cell_type": "code",
   "execution_count": 9,
   "id": "95984784",
   "metadata": {},
   "outputs": [
    {
     "name": "stderr",
     "output_type": "stream",
     "text": [
      "/var/folders/0b/fc06lg051536pp20ltszsw_00000gp/T/ipykernel_67123/14582184.py:53: DeprecationWarning: The model 'claude-3-sonnet-20240229' is deprecated and will reach end-of-life on July 21st, 2025.\n",
      "Please migrate to a newer model. Visit https://docs.anthropic.com/en/docs/resources/model-deprecations for more information.\n",
      "  response = client.messages.create(\n"
     ]
    },
    {
     "name": "stdout",
     "output_type": "stream",
     "text": [
      "Claude wants to get an article for: Christopher Nolan awards and honors\n"
     ]
    },
    {
     "name": "stderr",
     "output_type": "stream",
     "text": [
      "/Users/anshika@browserstack.com/Library/Python/3.9/lib/python/site-packages/urllib3/__init__.py:35: NotOpenSSLWarning: urllib3 v2 only supports OpenSSL 1.1.1+, currently the 'ssl' module is compiled with 'LibreSSL 2.8.3'. See: https://github.com/urllib3/urllib3/issues/3020\n",
      "  warnings.warn(\n",
      "/var/folders/0b/fc06lg051536pp20ltszsw_00000gp/T/ipykernel_67123/14582184.py:53: DeprecationWarning: The model 'claude-3-sonnet-20240229' is deprecated and will reach end-of-life on July 21st, 2025.\n",
      "Please migrate to a newer model. Visit https://docs.anthropic.com/en/docs/resources/model-deprecations for more information.\n",
      "  response = client.messages.create(\n"
     ]
    },
    {
     "name": "stdout",
     "output_type": "stream",
     "text": [
      "Claude wants to get an article for: Ben Stiller awards and honors\n",
      "Claude wants to get an article for: Christopher Nolan\n",
      "Claude wants to get an article for: Ben Stiller\n",
      "\n",
      "Claude's answer: Christopher Nolan has more Oscars than Ben Stiller. Nolan has won 2 Academy Awards, while the information above does not mention Stiller winning any Oscars.\n",
      "Goodbye!\n"
     ]
    }
   ],
   "source": [
    "\n",
    "answer_question_loop()\n"
   ]
  }
 ],
 "metadata": {
  "kernelspec": {
   "display_name": "Python 3",
   "language": "python",
   "name": "python3"
  },
  "language_info": {
   "codemirror_mode": {
    "name": "ipython",
    "version": 3
   },
   "file_extension": ".py",
   "mimetype": "text/x-python",
   "name": "python",
   "nbconvert_exporter": "python",
   "pygments_lexer": "ipython3",
   "version": "3.9.6"
  }
 },
 "nbformat": 4,
 "nbformat_minor": 5
}
